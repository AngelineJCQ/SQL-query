{
 "cells": [
  {
   "cell_type": "markdown",
   "metadata": {},
   "source": [
    "# Homework 2: SQL in Python (Data and Databases 2021)\n",
    "\n",
    "The next four homework assignments will be in this iPython notebook format. Read the instructions as you go, and type in the necessary code--then run the cells to see if you got it right. Don't worry if you are new to python for this assignment--the only \"code\" you will be writing are SQL statements that you will paste into each myquery variable.\n",
    "\n",
    "\n",
    "## The Challenges\n",
    "\n",
    "For this homework we will be using the tables we imported from the [UN data site](http://data.un.org/Explorer.aspx). You should already have `wind` and `solar` installed. As you will see, this homework asks that you find one more table of your choice from the UN's Energy statistics an import it into the the same database. [I have posted the instructions here](http://floatingmedia.com/columbia/csv_to_sql.html)\n",
    "\n",
    "These are relatively simple CSV files--the only really important columns are `country`, `year` and `usage`. But the tricky part is that most countries have multiple entries: one for every year the UN has been gathering data on that country. So most of these queries are going to ask you to get electrical usage results based on country and year.\n",
    "\n",
    "In the questions below, we focus on exploratory queries--with an emphasis on aggregates and joins. Read the questions carefully, and then write SQL statements that will get you the correct results. (You will want to explore tables and test out queries directly in the shell before you paste them into Python--the error handling for SQL in Python can be confusing, and there should be no errors in the prewritten Python parts of this document. Also, sometimes an error in Python will break your connection with the database--see conn.rollback() below for that solution.\n"
   ]
  },
  {
   "cell_type": "markdown",
   "metadata": {},
   "source": [
    "First things first: Connect to database! \n",
    "(Make sure the cell is selected, then go to the cell menubar and choose \"Run Cells\")"
   ]
  },
  {
   "cell_type": "code",
   "execution_count": 3,
   "metadata": {},
   "outputs": [
    {
     "name": "stdout",
     "output_type": "stream",
     "text": [
      "<class 'pg8000.dbapi.Connection'>\n"
     ]
    }
   ],
   "source": [
    "import pg8000.dbapi\n",
    "# use whatever username and other information you used in class to connect\n",
    "conn = pg8000.dbapi.connect(database=\"undata\",user=\" \")\n",
    "print(type(conn))"
   ]
  },
  {
   "cell_type": "markdown",
   "metadata": {},
   "source": [
    "If the connection isn't working make sure that you have typed in the name of the database correctly, and your username as well. \n",
    "\n",
    "If you get an error when running one of the SQL cells below, run this conn.rollback() cell to restart your connection."
   ]
  },
  {
   "cell_type": "code",
   "execution_count": 4,
   "metadata": {},
   "outputs": [],
   "source": [
    "conn.rollback()"
   ]
  },
  {
   "cell_type": "markdown",
   "metadata": {},
   "source": [
    "## Question 1: Simple(ish) Query \n",
    "\n",
    "Create a statement that searches for the top 15 countries for solar energy usage in 2014. So figure out first what table you are searching and what columns you need (you can figure out the columns by looking at the sample results below). Then you need to test by year so you only get results from 2014, and order it correctly.\n",
    "\n",
    "```\n",
    "Germany 36056.0 mil\n",
    "United States 25764.0 mil\n",
    "Japan 22952.0 mil\n",
    "Italy 22306.0 mil\n",
    "China 15189.0 mil\n",
    "Spain 13673.0 mil\n",
    "France 6392.0 mil\n",
    "India 5020.0 mil\n",
    "United Kingdom 4054.0 mil\n",
    "Australia 4010.0 mil\n",
    "Greece 3792.0 mil\n",
    "Belgium 2886.0 mil\n",
    "Korea, Republic of 2557.0 mil\n",
    "Czechia 2123.0 mil\n",
    "Canada 2120.0 mil\n",
    "```"
   ]
  },
  {
   "cell_type": "code",
   "execution_count": 15,
   "metadata": {},
   "outputs": [
    {
     "name": "stdout",
     "output_type": "stream",
     "text": [
      "Germany 36056.0 mil\n",
      "United States 25764.0 mil\n",
      "Japan 22952.0 mil\n",
      "Italy 22306.0 mil\n",
      "China 15189.0 mil\n",
      "Spain 13673.0 mil\n",
      "France 6392.0 mil\n",
      "India 5020.0 mil\n",
      "United Kingdom 4054.0 mil\n",
      "Australia 4010.0 mil\n",
      "Greece 3792.0 mil\n",
      "Belgium 2886.0 mil\n",
      "Korea, Republic of 2557.0 mil\n",
      "Czechia 2123.0 mil\n",
      "Canada 2120.0 mil\n"
     ]
    }
   ],
   "source": [
    "cursor = conn.cursor()\n",
    "myquery = \"SELECT country, usage FROM solar WHERE year = '2014' ORDER BY usage DESC LIMIT 15;\"\n",
    "cursor.execute(myquery)\n",
    "for row in cursor:\n",
    "    print(row[0], row[1], \"mil\")"
   ]
  },
  {
   "cell_type": "markdown",
   "metadata": {},
   "source": [
    "## Question 2: aggregate query\n",
    "\n",
    "Using avg(), get the average solar energy usage for each country, and display only the countries with an average that is above 500 (million). (Remember for aggregates you need to use HAVING to test values, instead of WHERE). Make sure it is properly ordered like the results below, and wrap your avg column in round() to get round numbers:\n",
    "\n",
    "```\n",
    "69405.0 China\n",
    "15402.0 India\n",
    "11208.0 United States\n",
    "10918.0 Germany\n",
    "9098.0 Japan\n",
    "5818.0 Italy\n",
    "4122.0 Spain\n",
    "2503.0 United Kingdom\n",
    "2389.0 Turkey\n",
    "2234.0 France\n",
    "1705.0 Greece\n",
    "1690.0 Chile\n",
    "1607.0 Australia\n",
    "1588.0 Brazil\n",
    "1532.0 Belgium\n",
    "1494.0 Thailand\n",
    "1397.0 Czechia\n",
    "1348.0 South Africa\n",
    "1150.0 Korea, Republic of\n",
    "906.0 Bulgaria\n",
    "804.0 Honduras\n",
    "789.0 Romania\n",
    "773.0 Israel\n",
    "740.0 Canada\n",
    "652.0 Jordan\n",
    "573.0 Pakistan\n",
    "509.0 Other Asia\n",
    "```"
   ]
  },
  {
   "cell_type": "code",
   "execution_count": 3,
   "metadata": {},
   "outputs": [
    {
     "name": "stdout",
     "output_type": "stream",
     "text": [
      "69405.0 China\n",
      "15402.0 India\n",
      "11208.0 United States\n",
      "10918.0 Germany\n",
      "9098.0 Japan\n",
      "5818.0 Italy\n",
      "4122.0 Spain\n",
      "2503.0 United Kingdom\n",
      "2389.0 Turkey\n",
      "2234.0 France\n",
      "1705.0 Greece\n",
      "1690.0 Chile\n",
      "1607.0 Australia\n",
      "1588.0 Brazil\n",
      "1532.0 Belgium\n",
      "1494.0 Thailand\n",
      "1397.0 Czechia\n",
      "1348.0 South Africa\n",
      "1150.0 Korea, Republic of\n",
      "906.0 Bulgaria\n",
      "804.0 Honduras\n",
      "789.0 Romania\n",
      "773.0 Israel\n",
      "740.0 Canada\n",
      "652.0 Jordan\n",
      "573.0 Pakistan\n",
      "509.0 Other Asia\n"
     ]
    }
   ],
   "source": [
    "cursor = conn.cursor()\n",
    "myquery = '''\n",
    "SELECT ROUND(AVG(usage)), country FROM solar \n",
    "GROUP BY country\n",
    "HAVING ROUND(AVG(usage)) > 500 \n",
    "ORDER BY ROUND(AVG(usage)) DESC;\n",
    "'''\n",
    "cursor.execute(myquery)\n",
    "for row in cursor:\n",
    "    print(row[0],row[1])"
   ]
  },
  {
   "cell_type": "markdown",
   "metadata": {},
   "source": [
    "## Question 3: aggregate query 2\n",
    "\n",
    "Get a list of countries whose Solar Energy data first started being collected in 2012. This is tricky to figure out, but the query should be pretty simple. The main thing you need to figure out is which aggregate function will find the earliest date, and then you need to test if year is 2012. And make it alphabetical by country.\n",
    "\n",
    "\n",
    "```\n",
    "2012 Botswana\n",
    "2012 Fiji\n",
    "2012 Gabon\n",
    "2012 Lao People's Dem. Rep.\n",
    "2012 Lithuania\n",
    "2012 Marshall Islands\n",
    "2012 Mauritius\n",
    "2012 Nigeria\n",
    "2012 Poland\n",
    "2012 South Sudan\n",
    "2012 St. Helena and Depend.\n",
    "2012 St. Kitts-Nevis\n",
    "2012 Tuvalu\n",
    "2012 United Arab Emirates\n",
    "```\n"
   ]
  },
  {
   "cell_type": "code",
   "execution_count": 4,
   "metadata": {
    "scrolled": true
   },
   "outputs": [
    {
     "name": "stdout",
     "output_type": "stream",
     "text": [
      "2012 Botswana\n",
      "2012 Fiji\n",
      "2012 Gabon\n",
      "2012 Lao People's Dem. Rep.\n",
      "2012 Lithuania\n",
      "2012 Marshall Islands\n",
      "2012 Mauritius\n",
      "2012 Nigeria\n",
      "2012 Poland\n",
      "2012 South Sudan\n",
      "2012 St. Helena and Depend.\n",
      "2012 St. Kitts-Nevis\n",
      "2012 Tuvalu\n",
      "2012 United Arab Emirates\n"
     ]
    }
   ],
   "source": [
    "cursor = conn.cursor()\n",
    "myquery = '''\n",
    "SELECT MIN(year), country FROM solar \n",
    "GROUP BY country \n",
    "HAVING MIN(year) = 2012 \n",
    "ORDER BY country ASC;\n",
    "'''\n",
    "cursor.execute(myquery)\n",
    "for row in cursor:\n",
    "    print(row[0], row[1])"
   ]
  },
  {
   "cell_type": "markdown",
   "metadata": {},
   "source": [
    "## Question 4: JOIN\n",
    "\n",
    "Get the usage of wind AND solar power for Germany for each year in the tables. There should be four columns total, and you will be joining on two criteria.\n",
    "\n",
    "(Please note that in the results below I am using Python to add in the strings \"solar:\" and \"wind:\")\n",
    "\n",
    "\n",
    "\n",
    "```\n",
    "Germany 1991 \twind: 215.0 \tsolar: 1.0\n",
    "Germany 1992 \twind: 291.0 \tsolar: 4.0\n",
    "Germany 1993 \twind: 674.0 \tsolar: 3.0\n",
    "Germany 1994 \twind: 1428.0 \tsolar: 7.0\n",
    "Germany 1995 \twind: 1712.0 \tsolar: 7.0\n",
    "Germany 1996 \twind: 2078.0 \tsolar: 12.0\n",
    "Germany 1997 \twind: 3034.0 \tsolar: 18.0\n",
    "Germany 1998 \twind: 4593.0 \tsolar: 35.0\n",
    "Germany 1999 \twind: 5528.0 \tsolar: 30.0\n",
    "Germany 2000 \twind: 9352.0 \tsolar: 60.0\n",
    "Germany 2001 \twind: 10456.0 \tsolar: 116.0\n",
    "Germany 2002 \twind: 15856.0 \tsolar: 188.0\n",
    "Germany 2003 \twind: 18713.0 \tsolar: 313.0\n",
    "Germany 2004 \twind: 25509.0 \tsolar: 557.0\n",
    "Germany 2005 \twind: 27229.0 \tsolar: 1282.0\n",
    "Germany 2006 \twind: 30710.0 \tsolar: 2220.0\n",
    "Germany 2007 \twind: 39713.0 \tsolar: 3075.0\n",
    "Germany 2008 \twind: 40574.0 \tsolar: 4420.0\n",
    "Germany 2009 \twind: 38647.0 \tsolar: 6584.0\n",
    "Germany 2010 \twind: 38547.0 \tsolar: 11729.0\n",
    "Germany 2011 \twind: 49858.0 \tsolar: 19599.0\n",
    "Germany 2012 \twind: 51680.0 \tsolar: 26380.0\n",
    "Germany 2013 \twind: 52737.0 \tsolar: 31010.0\n",
    "Germany 2014 \twind: 58497.0 \tsolar: 36056.0\n",
    "Germany 2015 \twind: 80624.0 \tsolar: 38726.0\n",
    "Germany 2016 \twind: 79924.0 \tsolar: 38098.0\n",
    "Germany 2017 \twind: 105693.0 \tsolar: 39401.0\n",
    "Germany 2018 \twind: 109951.0 \tsolar: 45784.0\n",
    "```\n",
    "\n",
    "Hint: after the join you need to test that the country is Germany, then order by what?"
   ]
  },
  {
   "cell_type": "code",
   "execution_count": 5,
   "metadata": {},
   "outputs": [
    {
     "name": "stdout",
     "output_type": "stream",
     "text": [
      "Germany 1991 \twind: 215.0 \tsolar: 1.0\n",
      "Germany 1992 \twind: 291.0 \tsolar: 4.0\n",
      "Germany 1993 \twind: 674.0 \tsolar: 3.0\n",
      "Germany 1994 \twind: 1428.0 \tsolar: 7.0\n",
      "Germany 1995 \twind: 1712.0 \tsolar: 7.0\n",
      "Germany 1996 \twind: 2078.0 \tsolar: 12.0\n",
      "Germany 1997 \twind: 3034.0 \tsolar: 18.0\n",
      "Germany 1998 \twind: 4593.0 \tsolar: 35.0\n",
      "Germany 1999 \twind: 5528.0 \tsolar: 30.0\n",
      "Germany 2000 \twind: 9352.0 \tsolar: 60.0\n",
      "Germany 2001 \twind: 10456.0 \tsolar: 116.0\n",
      "Germany 2002 \twind: 15856.0 \tsolar: 188.0\n",
      "Germany 2003 \twind: 18713.0 \tsolar: 313.0\n",
      "Germany 2004 \twind: 25509.0 \tsolar: 557.0\n",
      "Germany 2005 \twind: 27229.0 \tsolar: 1282.0\n",
      "Germany 2006 \twind: 30710.0 \tsolar: 2220.0\n",
      "Germany 2007 \twind: 39713.0 \tsolar: 3075.0\n",
      "Germany 2008 \twind: 40574.0 \tsolar: 4420.0\n",
      "Germany 2009 \twind: 38647.0 \tsolar: 6584.0\n",
      "Germany 2010 \twind: 38547.0 \tsolar: 11729.0\n",
      "Germany 2011 \twind: 49858.0 \tsolar: 19599.0\n",
      "Germany 2012 \twind: 51680.0 \tsolar: 26380.0\n",
      "Germany 2013 \twind: 52737.0 \tsolar: 31010.0\n",
      "Germany 2014 \twind: 58497.0 \tsolar: 36056.0\n",
      "Germany 2015 \twind: 80624.0 \tsolar: 38726.0\n",
      "Germany 2016 \twind: 79924.0 \tsolar: 38098.0\n",
      "Germany 2017 \twind: 105693.0 \tsolar: 39401.0\n",
      "Germany 2018 \twind: 109951.0 \tsolar: 45784.0\n"
     ]
    }
   ],
   "source": [
    "cursor = conn.cursor()\n",
    "myquery = '''\n",
    "SELECT solar.country, solar.year, wind.usage, solar.usage FROM solar\n",
    "JOIN wind ON solar.country = wind.country AND solar.year = wind.year \n",
    "WHERE solar.country = 'Germany' \n",
    "ORDER BY solar.year ASC;\n",
    "'''\n",
    "cursor.execute(myquery)\n",
    "for row in cursor:\n",
    "    print(row[0],row[1],\"\\twind:\",row[2],\"\\tsolar:\",row[3])"
   ]
  },
  {
   "cell_type": "markdown",
   "metadata": {},
   "source": [
    "## Question 5: join with aggregates\n",
    "\n",
    "Get the average wind usage and solar usage for each country. Order your results by average solar usage, and show only the top ten countries.\n",
    "\n",
    "```\n",
    "China wind: 162851.40 \tsolar: 69405.33\n",
    "India wind: 13008.79 \tsolar: 15401.83\n",
    "United States wind: 67514.24 \tsolar: 11208.00\n",
    "Germany wind: 32279.39 \tsolar: 10918.39\n",
    "Japan wind: 2266.03 \tsolar: 9098.38\n",
    "Italy wind: 5464.52 \tsolar: 5818.48\n",
    "Spain wind: 22075.00 \tsolar: 4122.48\n",
    "United Kingdom wind: 11362.24 \tsolar: 2503.00\n",
    "Turkey wind: 4655.62 \tsolar: 2388.60\n",
    "France wind: 7280.31 \tsolar: 2234.04\n",
    "```"
   ]
  },
  {
   "cell_type": "code",
   "execution_count": 5,
   "metadata": {},
   "outputs": [
    {
     "name": "stdout",
     "output_type": "stream",
     "text": [
      "China wind: 162851.40 \tsolar: 69405.33\n",
      "India wind: 13008.79 \tsolar: 15401.83\n",
      "United States wind: 67514.24 \tsolar: 11208.00\n",
      "Germany wind: 32279.39 \tsolar: 10918.39\n",
      "Japan wind: 2266.03 \tsolar: 9098.38\n",
      "Italy wind: 5464.52 \tsolar: 5818.48\n",
      "Spain wind: 22075.00 \tsolar: 4122.48\n",
      "United Kingdom wind: 11362.24 \tsolar: 2503.00\n",
      "Turkey wind: 4655.62 \tsolar: 2388.60\n",
      "France wind: 7280.31 \tsolar: 2234.04\n"
     ]
    }
   ],
   "source": [
    "cursor = conn.cursor()\n",
    "myquery = '''\n",
    "SELECT solar.country, AVG(wind.usage), AVG(solar.usage) FROM solar \n",
    "JOIN wind ON solar.country = wind.country \n",
    "GROUP BY solar.country \n",
    "ORDER BY AVG(solar.usage) DESC LIMIT 10;\n",
    "'''\n",
    "cursor.execute(myquery)\n",
    "for row in cursor:\n",
    "    print(row[0],\"wind:\",\"%.2f\" % row[1],\"\\tsolar:\",\"%.2f\" % row[2])"
   ]
  },
  {
   "cell_type": "markdown",
   "metadata": {},
   "source": [
    "## Question 6: same thing but slightly more complicated\n",
    "\n",
    "Get the average wind usage and solar usage for each country, FROM 2010 TO THE PRESENT. Order your results by average solar usage, and show only the top ten countries.\n",
    "\n",
    "```\n",
    "China wind: 177957.11 \tsolar: 69405.33\n",
    "United States wind: 185230.56 \tsolar: 33785.67\n",
    "Germany wind: 69723.44 \tsolar: 31864.78\n",
    "Japan wind: 5517.00 \tsolar: 27680.67\n",
    "Italy wind: 14495.00 \tsolar: 18615.22\n",
    "India wind: 33272.00 \tsolar: 15401.83\n",
    "Spain wind: 49174.78 \tsolar: 12218.33\n",
    "France wind: 18550.56 \tsolar: 6170.56\n",
    "United Kingdom wind: 32268.67 \tsolar: 5552.89\n",
    "Australia wind: 9749.56 \tsolar: 4535.78\n",
    "```"
   ]
  },
  {
   "cell_type": "code",
   "execution_count": 19,
   "metadata": {
    "scrolled": true
   },
   "outputs": [
    {
     "name": "stdout",
     "output_type": "stream",
     "text": [
      "China wind: 177957.11 \tsolar: 69405.33\n",
      "United States wind: 185230.56 \tsolar: 33785.67\n",
      "Germany wind: 69723.44 \tsolar: 31864.78\n",
      "Japan wind: 5517.00 \tsolar: 27680.67\n",
      "Italy wind: 14495.00 \tsolar: 18615.22\n",
      "India wind: 33272.00 \tsolar: 15401.83\n",
      "Spain wind: 49174.78 \tsolar: 12218.33\n",
      "France wind: 18550.56 \tsolar: 6170.56\n",
      "United Kingdom wind: 32268.67 \tsolar: 5552.89\n",
      "Australia wind: 9749.56 \tsolar: 4535.78\n"
     ]
    }
   ],
   "source": [
    "cursor = conn.cursor()\n",
    "myquery = '''\n",
    "WITH since2010 AS(\n",
    "SELECT wind.country, wind.year, wind.usage AS wind, solar.usage AS solar FROM wind \n",
    "LEFT JOIN solar ON wind.year = solar.year AND wind.country = solar.country\n",
    "WHERE wind.year >2009)\n",
    "SELECT since2010.country, AVG(since2010.wind), AVG(since2010.solar) FROM since2010\n",
    "GROUP BY since2010.country \n",
    "ORDER BY AVG(since2010.solar) DESC NULLS LAST LIMIT 10;\n",
    "'''\n",
    "cursor.execute(myquery)\n",
    "for row in cursor:\n",
    "    print(row[0],\"wind:\",\"%.2f\" % row[1],\"\\tsolar:\",\"%.2f\" % row[2])"
   ]
  },
  {
   "cell_type": "markdown",
   "metadata": {},
   "source": [
    "## Question 7: Building a basic timeseries\n",
    "\n",
    "Step one: get a list of the first year of data and the most recent year of data for each country from the solar table. Limit the results to the first 15 with the oldest year and then in alphabetical order.\n",
    "\n",
    "```\n",
    "Italy 1990 -- 2018\n",
    "Japan 1990 -- 2018\n",
    "Korea, Republic of 1990 -- 2018\n",
    "Mexico 1990 -- 2018\n",
    "Portugal 1990 -- 2018\n",
    "Spain 1990 -- 2018\n",
    "Switzerland 1990 -- 2018\n",
    "United States 1990 -- 2018\n",
    "Finland 1991 -- 2018\n",
    "Germany 1991 -- 2018\n",
    "Netherlands 1991 -- 2018\n",
    "Canada 1992 -- 2018\n",
    "Australia 1993 -- 2018\n",
    "Austria 1993 -- 2018\n",
    "Liechtenstein 1993 -- 2019\n",
    "```"
   ]
  },
  {
   "cell_type": "code",
   "execution_count": 25,
   "metadata": {
    "scrolled": true
   },
   "outputs": [
    {
     "name": "stdout",
     "output_type": "stream",
     "text": [
      "Italy 1990 -- 2018\n",
      "Japan 1990 -- 2018\n",
      "Korea, Republic of 1990 -- 2018\n",
      "Mexico 1990 -- 2018\n",
      "Portugal 1990 -- 2018\n",
      "Spain 1990 -- 2018\n",
      "Switzerland 1990 -- 2018\n",
      "United States 1990 -- 2018\n",
      "Finland 1991 -- 2018\n",
      "Germany 1991 -- 2018\n",
      "Netherlands 1991 -- 2018\n",
      "Canada 1992 -- 2018\n",
      "Australia 1993 -- 2018\n",
      "Austria 1993 -- 2018\n",
      "Liechtenstein 1993 -- 2019\n"
     ]
    }
   ],
   "source": [
    "cursor = conn.cursor()\n",
    "myquery = '''\n",
    "SELECT country, MIN(year), MAX(year) FROM solar \n",
    "GROUP BY country\n",
    "ORDER BY MIN(year), country ASC LIMIT 15;\n",
    "'''\n",
    "cursor.execute(myquery)\n",
    "for row in cursor:\n",
    "    print(row[0],row[1],\"--\",row[2])"
   ]
  },
  {
   "cell_type": "markdown",
   "metadata": {},
   "source": [
    "## Question 8: Building a basic timeseries\n",
    "\n",
    "Step two: Take that previous query, (order, limit and everything) and turn that into a subquery, and join the solar table on it twice, first to get the usage from the earliest date, next get the usage from the most recent date. Order it by the most usage from the most recent year.\n",
    "\n",
    "Note: to join at the same table twice, you need to alias the table (solar as sl1, solar as sl2). This is getting very challenging, so get as far as you can.\n",
    "```\n",
    "United States 1990 -- 2018 usage change:  666.0 -- 85184.0\n",
    "Japan 1990 -- 2018 usage change:  67.0 -- 62668.0\n",
    "Germany 1991 -- 2018 usage change:  1.0 -- 45784.0\n",
    "Italy 1990 -- 2018 usage change:  4.0 -- 22654.0\n",
    "Spain 1990 -- 2018 usage change:  9.0 -- 12744.0\n",
    "Australia 1993 -- 2018 usage change:  11.0 -- 9929.0\n",
    "Korea, Republic of 1990 -- 2018 usage change:  1.0 -- 9208.0\n",
    "Canada 1992 -- 2018 usage change:  2.0 -- 3796.0\n",
    "Netherlands 1991 -- 2018 usage change:  1.0 -- 3693.0\n",
    "Switzerland 1990 -- 2018 usage change:  1.0 -- 1944.0\n",
    "Mexico 1990 -- 2018 usage change:  1.0 -- 1856.0\n",
    "Austria 1993 -- 2018 usage change:  1.0 -- 1438.0\n",
    "Portugal 1990 -- 2018 usage change:  1.0 -- 1006.0\n",
    "Finland 1991 -- 2018 usage change:  1.0 -- 90.0\n",
    "Liechtenstein 1993 -- 2019 usage change:  0.008 -- 26.0\n",
    "```"
   ]
  },
  {
   "cell_type": "code",
   "execution_count": 18,
   "metadata": {
    "scrolled": true
   },
   "outputs": [
    {
     "name": "stdout",
     "output_type": "stream",
     "text": [
      "United States 1990 -- 2018 usage change:  666.0 -- 85184.0\n",
      "Japan 1990 -- 2018 usage change:  67.0 -- 62668.0\n",
      "Germany 1991 -- 2018 usage change:  1.0 -- 45784.0\n",
      "Italy 1990 -- 2018 usage change:  4.0 -- 22654.0\n",
      "Spain 1990 -- 2018 usage change:  9.0 -- 12744.0\n",
      "Australia 1993 -- 2018 usage change:  11.0 -- 9929.0\n",
      "Korea, Republic of 1990 -- 2018 usage change:  1.0 -- 9208.0\n",
      "Canada 1992 -- 2018 usage change:  2.0 -- 3796.0\n",
      "Netherlands 1991 -- 2018 usage change:  1.0 -- 3693.0\n",
      "Switzerland 1990 -- 2018 usage change:  1.0 -- 1944.0\n",
      "Mexico 1990 -- 2018 usage change:  1.0 -- 1856.0\n",
      "Austria 1993 -- 2018 usage change:  1.0 -- 1438.0\n",
      "Portugal 1990 -- 2018 usage change:  1.0 -- 1006.0\n",
      "Finland 1991 -- 2018 usage change:  1.0 -- 90.0\n",
      "Liechtenstein 1993 -- 2019 usage change:  0.008 -- 26.0\n"
     ]
    }
   ],
   "source": [
    "cursor = conn.cursor()\n",
    "myquery = '''\n",
    "WITH time AS(SELECT country, MIN(year), MAX(year) FROM solar \n",
    "GROUP BY country\n",
    "ORDER BY MIN(year), country ASC LIMIT 15)\n",
    "SELECT time.country, time.min, time.max, s1.usage, s2.usage FROM time \n",
    "JOIN solar AS s1 ON time.country = s1.country AND time.min = s1.year\n",
    "JOIN solar AS s2 ON time.country = s2.country AND time.max = s2.year\n",
    "ORDER BY s2.usage DESC;\n",
    "'''  \n",
    "cursor.execute(myquery)\n",
    "for row in cursor:\n",
    "    print(row[0],row[1],\"--\",row[2],\"usage change: \", row[3],\"--\",row[4])"
   ]
  },
  {
   "cell_type": "markdown",
   "metadata": {},
   "source": [
    "## Question 9: join with aggregates, new data\n",
    "\n",
    "Your final task: go back to the [UN data site](http://data.un.org/Explorer.aspx) and download another table of your choice from the energy statistics. [Full instructions here.](http://floatingmedia.com/columbia/csv_to_sql.html) Choose a table that has similar columns to the wind and energy tables, and input it into your database.  Make sure you test that everything is working in the shell before going back to Python.\n",
    "\n",
    "Now, write a query that joins the third table to the query you made in Question 5. Get the average use for each Energy type: Solar, Wind, and the table you chose. Order it by the energy type you chose (that column should come first after the country). And display the top 10 countries by the average of the energy type that you added, along with the averages for solar and wind.\n"
   ]
  },
  {
   "cell_type": "code",
   "execution_count": 26,
   "metadata": {},
   "outputs": [
    {
     "name": "stdout",
     "output_type": "stream",
     "text": [
      "China 5975756.67 69405.33 162851.40\n",
      "United States 1075300.00 11208.00 67514.24\n",
      "Germany 120303.00 10918.39 32279.39\n",
      "Spain 145200.00 4122.48 22075.00\n",
      "Brazil 3026866.67 1587.86 17953.08\n",
      "India 2637900.00 15401.83 13008.79\n",
      "United Kingdom 17583.33 2503.00 11362.24\n",
      "Canada 1559662.00 739.63 7936.67\n",
      "France 256333.33 2234.04 7280.31\n",
      "Denmark 120.00 215.60 6254.55\n"
     ]
    }
   ],
   "source": [
    "cursor = conn.cursor()\n",
    "myquery = '''\n",
    "WITH solarwater AS (\n",
    "SELECT fallingwater.country, AVG(fallingwater.usage) AS wateru, AVG(solar.usage) AS solaru FROM fallingwater \n",
    "FULL JOIN solar ON fallingwater.country = solar.country\n",
    "GROUP BY fallingwater.country),\n",
    "winda AS (SELECT country, AVG(usage) AS windu FROM wind\n",
    "GROUP BY country)\n",
    "SELECT solarwater.country, solarwater.wateru, solarwater.solaru, winda.windu FROM solarwater\n",
    "FULL JOIN winda ON solarwater.country = winda.country\n",
    "WHERE solarwater.wateru IS NOT NULL AND solarwater.solaru IS NOT NULL\n",
    "ORDER BY winda.windu DESC NULLS LAST LIMIT 10;\n",
    "'''\n",
    "cursor.execute(myquery)\n",
    "for row in cursor:\n",
    "    print(row[0],\"%.2f\" % row[1],\"%.2f\" % row[2],\"%.2f\" % row[3])"
   ]
  },
  {
   "cell_type": "markdown",
   "metadata": {},
   "source": [
    "Great work! You're done."
   ]
  }
 ],
 "metadata": {
  "kernelspec": {
   "display_name": "Python 3 (ipykernel)",
   "language": "python",
   "name": "python3"
  },
  "language_info": {
   "codemirror_mode": {
    "name": "ipython",
    "version": 3
   },
   "file_extension": ".py",
   "mimetype": "text/x-python",
   "name": "python",
   "nbconvert_exporter": "python",
   "pygments_lexer": "ipython3",
   "version": "3.9.7"
  }
 },
 "nbformat": 4,
 "nbformat_minor": 1
}
